{
  "nbformat": 4,
  "nbformat_minor": 0,
  "metadata": {
    "colab": {
      "provenance": [],
      "authorship_tag": "ABX9TyNjSPWX9TXwev536QN6WT4L",
      "include_colab_link": true
    },
    "kernelspec": {
      "name": "python3",
      "display_name": "Python 3"
    },
    "language_info": {
      "name": "python"
    }
  },
  "cells": [
    {
      "cell_type": "markdown",
      "metadata": {
        "id": "view-in-github",
        "colab_type": "text"
      },
      "source": [
        "<a href=\"https://colab.research.google.com/github/lcbjrrr/ProgWdata/blob/main/CSC116_Py_Review.ipynb\" target=\"_parent\"><img src=\"https://colab.research.google.com/assets/colab-badge.svg\" alt=\"Open In Colab\"/></a>"
      ]
    },
    {
      "cell_type": "markdown",
      "source": [
        "# Python"
      ],
      "metadata": {
        "id": "lSUvCzEv3YC7"
      }
    },
    {
      "cell_type": "markdown",
      "source": [
        "Python is a popular, high-level programming language known for its readability and versatility. It is widely used in web development, data analysis, artificial intelligence, and scientific computing. Its extensive libraries and frameworks make it a powerful tool for various applications."
      ],
      "metadata": {
        "id": "3nFMIxyi06jE"
      }
    },
    {
      "cell_type": "markdown",
      "source": [
        "## Variables and Operations"
      ],
      "metadata": {
        "id": "6VVoRqZU3ayl"
      }
    },
    {
      "cell_type": "markdown",
      "source": [
        "In Python, variables are used to store data values. You can perform various operations on these variables, such as arithmetic operations (addition, subtraction, multiplication, division), comparison operations (equal to, not equal to, greater than, less than), and logical operations (and, or, not). Python's dynamic typing allows variables to hold different data types without explicit declaration.\n",
        "\n",
        "![](https://pbs.twimg.com/media/G1jUfopXkAAmmG9?format=png&name=small)"
      ],
      "metadata": {
        "id": "XJ757y_D3rDo"
      }
    },
    {
      "cell_type": "code",
      "source": [
        "a = 5\n",
        "b = 10\n",
        "plus = a + b\n",
        "print(plus)"
      ],
      "metadata": {
        "colab": {
          "base_uri": "https://localhost:8080/"
        },
        "id": "5UUGvCY433KI",
        "outputId": "58baa0ed-4221-4445-9775-b27ce0182ac2"
      },
      "execution_count": 1,
      "outputs": [
        {
          "output_type": "stream",
          "name": "stdout",
          "text": [
            "15\n"
          ]
        }
      ]
    },
    {
      "cell_type": "markdown",
      "source": [
        "## Functions"
      ],
      "metadata": {
        "id": "bSL5uv3a49iE"
      }
    },
    {
      "cell_type": "markdown",
      "source": [
        "Functions in Python are blocks of reusable code that perform a specific task. They help organize code, improve readability, and promote code reuse. Functions can take arguments as input and return values as output. You define a function using the def keyword, followed by the function name and parentheses.\n",
        "\n",
        "![](https://pbs.twimg.com/media/G1jV5tZWEAA4Yaw?format=jpg&name=small)"
      ],
      "metadata": {
        "id": "Yut4HVa04mnZ"
      }
    },
    {
      "cell_type": "code",
      "source": [
        "def add(x,y):\n",
        " s = x+y\n",
        " return s\n",
        "r = add(1,2)\n",
        "print(r)\n",
        "\n"
      ],
      "metadata": {
        "id": "-i6bvnEK3lQh"
      },
      "execution_count": null,
      "outputs": []
    },
    {
      "cell_type": "markdown",
      "source": [
        "## Conditionals (IFs)"
      ],
      "metadata": {
        "id": "Xp33SbNV5QaD"
      }
    },
    {
      "cell_type": "markdown",
      "source": [
        "In Python, conditionals are essential for making decisions in your code. They use if, elif, and else statements to execute specific blocks of code based on whether a condition is True or False. These conditions are built with relational operators like == (equal to), != (not equal to), > (greater than), and < (less than) to compare values. For more complex checks, you use logical operators (and, or, and not) to combine these comparisons. For example, you can check if a number is greater than 10 and less than 20. Together, these tools give you precise control over your program's flow.\n",
        "\n",
        "![](https://pbs.twimg.com/media/G1jXsBhXcAAKa8A?format=png&name=small)"
      ],
      "metadata": {
        "id": "Z2fqSdw65Qcj"
      }
    },
    {
      "cell_type": "code",
      "source": [
        "def approval(nota, freq):\n",
        " if(nota>=7 and freq>=0.75):\n",
        "   aprov = 'pass'\n",
        " else:\n",
        "   aprov = 'fail'\n",
        " return aprov\n",
        "\n",
        "r = approval(8,0.9)\n",
        "print(r)"
      ],
      "metadata": {
        "colab": {
          "base_uri": "https://localhost:8080/",
          "height": 35
        },
        "id": "l0PT5rea4y1X",
        "outputId": "f9228530-f356-4f75-ec8b-337559f8a86d"
      },
      "execution_count": 2,
      "outputs": [
        {
          "output_type": "execute_result",
          "data": {
            "text/plain": [
              "'pass'"
            ],
            "application/vnd.google.colaboratory.intrinsic+json": {
              "type": "string"
            }
          },
          "metadata": {},
          "execution_count": 2
        }
      ]
    },
    {
      "cell_type": "markdown",
      "source": [
        "A boolean truth table is a comprehensive guide to all possible outcomes of a boolean expression, showing every combination of True and False for the variables involved. It's a fundamental concept in both computer science and logic. The table below illustrates the basic operations with two variables, A and B.\n",
        "\n",
        "![](https://pbs.twimg.com/media/G1jXP3SWQAA9uTm?format=png&name=small)"
      ],
      "metadata": {
        "id": "4P2Z1_Vd6eFa"
      }
    },
    {
      "cell_type": "markdown",
      "source": [
        "## Control Flow: Loops (For and While)"
      ],
      "metadata": {
        "id": "PkbHGiES7Yj6"
      }
    },
    {
      "cell_type": "markdown",
      "source": [
        "In Python, loops are used to repeat a block of code multiple times. The two main types of loops are for loops and while loops. For loops are typically used when you know the number of iterations beforehand, such as iterating over a list or a range of numbers. While loops are used when you want to repeat a block of code as long as a certain condition is true. Loops are essential for automating repetitive tasks and processing data efficiently."
      ],
      "metadata": {
        "id": "NZKXYHBz7Yn-"
      }
    },
    {
      "cell_type": "code",
      "source": [
        "for i in range(1,10,1):\n",
        "  print(i)"
      ],
      "metadata": {
        "colab": {
          "base_uri": "https://localhost:8080/"
        },
        "id": "NH8ml5zw7Yr-",
        "outputId": "15c1b8fe-ab57-403d-8e62-14fae4ff3207"
      },
      "execution_count": 4,
      "outputs": [
        {
          "output_type": "stream",
          "name": "stdout",
          "text": [
            "1\n",
            "2\n",
            "3\n",
            "4\n",
            "5\n",
            "6\n",
            "7\n",
            "8\n",
            "9\n"
          ]
        }
      ]
    },
    {
      "cell_type": "code",
      "source": [
        "i=1\n",
        "while(i<10):\n",
        "  print(i)\n",
        "  i=i+1"
      ],
      "metadata": {
        "colab": {
          "base_uri": "https://localhost:8080/"
        },
        "id": "bViCIkpH7b4E",
        "outputId": "faa90214-6268-47c6-d8ab-9e9e38623854"
      },
      "execution_count": 3,
      "outputs": [
        {
          "output_type": "stream",
          "name": "stdout",
          "text": [
            "1\n",
            "2\n",
            "3\n",
            "4\n",
            "5\n",
            "6\n",
            "7\n",
            "8\n",
            "9\n"
          ]
        }
      ]
    },
    {
      "cell_type": "markdown",
      "source": [
        "## Lists"
      ],
      "metadata": {
        "id": "uo1KK1Ld8aKs"
      }
    },
    {
      "cell_type": "markdown",
      "source": [
        "Lists in Python are ordered collections of items that can be of different data types. They are mutable, meaning you can change their elements after creation. Lists are defined by enclosing elements in square brackets [] and separating them with commas. They are versatile and widely used for storing and manipulating sequences of data"
      ],
      "metadata": {
        "id": "pa4aC8z98aO7"
      }
    },
    {
      "cell_type": "code",
      "source": [
        "grades = [ 5 , 6 , 2 , 9 , 2, 7 ]\n",
        "print (grades[1])"
      ],
      "metadata": {
        "colab": {
          "base_uri": "https://localhost:8080/"
        },
        "id": "IdzJpTL38agL",
        "outputId": "f0ac492c-d1fd-48d1-d906-c444d2eb148f"
      },
      "execution_count": 5,
      "outputs": [
        {
          "output_type": "stream",
          "name": "stdout",
          "text": [
            "6\n"
          ]
        }
      ]
    },
    {
      "cell_type": "code",
      "source": [
        "for i in range(6):\n",
        "  print(grades[i])"
      ],
      "metadata": {
        "colab": {
          "base_uri": "https://localhost:8080/"
        },
        "id": "YcTjEmL38fR2",
        "outputId": "cdc00527-4b76-49dc-9aab-2bd4768f08d9"
      },
      "execution_count": 6,
      "outputs": [
        {
          "output_type": "stream",
          "name": "stdout",
          "text": [
            "5\n",
            "6\n",
            "2\n",
            "9\n",
            "2\n",
            "7\n"
          ]
        }
      ]
    },
    {
      "cell_type": "markdown",
      "source": [
        "## Tuples and Dictionaries\n"
      ],
      "metadata": {
        "id": "HBJ6ztYY85xu"
      }
    },
    {
      "cell_type": "markdown",
      "source": [
        "Tuples and dictionaries are two other essential data structures in Python. Tuples are ordered, immutable collections of items, defined by enclosing elements in parentheses (). Dictionaries, on the other hand, are unordered collections of key-value pairs, defined by enclosing elements in curly braces {}. Dictionaries are mutable and are used for storing data in a way that allows for quick lookups based on keys."
      ],
      "metadata": {
        "id": "58RcTS8t850U"
      }
    },
    {
      "cell_type": "code",
      "source": [
        "tuples = (2, 4, 6, 8, 10)\n",
        "print(tuples[3])"
      ],
      "metadata": {
        "colab": {
          "base_uri": "https://localhost:8080/"
        },
        "id": "92alFA3586Ro",
        "outputId": "8be1d6f0-629c-49a2-aa26-2e25231578fb"
      },
      "execution_count": 7,
      "outputs": [
        {
          "output_type": "stream",
          "name": "stdout",
          "text": [
            "8\n"
          ]
        }
      ]
    },
    {
      "cell_type": "code",
      "source": [
        "tuples[3]=8.5"
      ],
      "metadata": {
        "colab": {
          "base_uri": "https://localhost:8080/",
          "height": 141
        },
        "id": "o-NtGrKE9JbV",
        "outputId": "e849470e-587c-44db-91b3-f969b5ac60b7"
      },
      "execution_count": 8,
      "outputs": [
        {
          "output_type": "error",
          "ename": "TypeError",
          "evalue": "'tuple' object does not support item assignment",
          "traceback": [
            "\u001b[0;31m---------------------------------------------------------------------------\u001b[0m",
            "\u001b[0;31mTypeError\u001b[0m                                 Traceback (most recent call last)",
            "\u001b[0;32m/tmp/ipython-input-235666140.py\u001b[0m in \u001b[0;36m<cell line: 0>\u001b[0;34m()\u001b[0m\n\u001b[0;32m----> 1\u001b[0;31m \u001b[0mtuples\u001b[0m\u001b[0;34m[\u001b[0m\u001b[0;36m3\u001b[0m\u001b[0;34m]\u001b[0m\u001b[0;34m=\u001b[0m\u001b[0;36m8.5\u001b[0m\u001b[0;34m\u001b[0m\u001b[0;34m\u001b[0m\u001b[0m\n\u001b[0m",
            "\u001b[0;31mTypeError\u001b[0m: 'tuple' object does not support item assignment"
          ]
        }
      ]
    },
    {
      "cell_type": "code",
      "source": [
        "turma_dic = {\"john\":5.0,\n",
        "        \"mary\":10.0}\n",
        "print(turma_dic['john'])\n",
        "print(turma_dic['mary'])\n",
        "turma_dic['john'] = 7.5\n",
        "print(turma_dic['john'])"
      ],
      "metadata": {
        "colab": {
          "base_uri": "https://localhost:8080/"
        },
        "id": "_S6Ksi2a86T8",
        "outputId": "87b3dbeb-0056-4f3a-e160-09e68c26944d"
      },
      "execution_count": 9,
      "outputs": [
        {
          "output_type": "stream",
          "name": "stdout",
          "text": [
            "5.0\n",
            "10.0\n",
            "7.5\n"
          ]
        }
      ]
    },
    {
      "cell_type": "code",
      "source": [],
      "metadata": {
        "id": "ixyMJ4k98_xl"
      },
      "execution_count": null,
      "outputs": []
    }
  ]
}