{
  "nbformat": 4,
  "nbformat_minor": 0,
  "metadata": {
    "colab": {
      "provenance": [],
      "authorship_tag": "ABX9TyP+R0pKMNnr+Prm9PpewT/6",
      "include_colab_link": true
    },
    "kernelspec": {
      "name": "python3",
      "display_name": "Python 3"
    },
    "language_info": {
      "name": "python"
    }
  },
  "cells": [
    {
      "cell_type": "markdown",
      "metadata": {
        "id": "view-in-github",
        "colab_type": "text"
      },
      "source": [
        "<a href=\"https://colab.research.google.com/github/lcbjrrr/ProgWdata/blob/main/CSC116_StreamLit.ipynb\" target=\"_parent\"><img src=\"https://colab.research.google.com/assets/colab-badge.svg\" alt=\"Open In Colab\"/></a>"
      ]
    },
    {
      "cell_type": "markdown",
      "source": [
        "# Streamlit"
      ],
      "metadata": {
        "id": "PSiyd6A7IrG_"
      }
    },
    {
      "cell_type": "markdown",
      "source": [
        "\n",
        "\n",
        "Streamlit is an open-source Python framework designed to help developers create interactive web applications for data science and machine learning projects. It allows users to build apps quickly with minimal code by converting Python scripts into web apps. Streamlit automatically handles UI elements like sliders, buttons, and charts, making it easy to visualize data and deploy machine learning models without requiring extensive web development knowledge. It is popular among data scientists for rapid prototyping and visualization."
      ],
      "metadata": {
        "id": "YjTsKAe6IrKP"
      }
    },
    {
      "cell_type": "code",
      "source": [
        "!pip install streamlit"
      ],
      "metadata": {
        "colab": {
          "base_uri": "https://localhost:8080/"
        },
        "id": "5f8e1RFIJzjY",
        "outputId": "a7a1ed9c-2ea1-4c10-8caa-ddadc3afcae5"
      },
      "execution_count": 1,
      "outputs": [
        {
          "output_type": "stream",
          "name": "stdout",
          "text": [
            "Collecting streamlit\n",
            "  Downloading streamlit-1.50.0-py3-none-any.whl.metadata (9.5 kB)\n",
            "Requirement already satisfied: altair!=5.4.0,!=5.4.1,<6,>=4.0 in /usr/local/lib/python3.12/dist-packages (from streamlit) (5.5.0)\n",
            "Requirement already satisfied: blinker<2,>=1.5.0 in /usr/local/lib/python3.12/dist-packages (from streamlit) (1.9.0)\n",
            "Requirement already satisfied: cachetools<7,>=4.0 in /usr/local/lib/python3.12/dist-packages (from streamlit) (5.5.2)\n",
            "Requirement already satisfied: click<9,>=7.0 in /usr/local/lib/python3.12/dist-packages (from streamlit) (8.2.1)\n",
            "Requirement already satisfied: numpy<3,>=1.23 in /usr/local/lib/python3.12/dist-packages (from streamlit) (2.0.2)\n",
            "Requirement already satisfied: packaging<26,>=20 in /usr/local/lib/python3.12/dist-packages (from streamlit) (25.0)\n",
            "Requirement already satisfied: pandas<3,>=1.4.0 in /usr/local/lib/python3.12/dist-packages (from streamlit) (2.2.2)\n",
            "Requirement already satisfied: pillow<12,>=7.1.0 in /usr/local/lib/python3.12/dist-packages (from streamlit) (11.3.0)\n",
            "Requirement already satisfied: protobuf<7,>=3.20 in /usr/local/lib/python3.12/dist-packages (from streamlit) (5.29.5)\n",
            "Requirement already satisfied: pyarrow>=7.0 in /usr/local/lib/python3.12/dist-packages (from streamlit) (18.1.0)\n",
            "Requirement already satisfied: requests<3,>=2.27 in /usr/local/lib/python3.12/dist-packages (from streamlit) (2.32.4)\n",
            "Requirement already satisfied: tenacity<10,>=8.1.0 in /usr/local/lib/python3.12/dist-packages (from streamlit) (8.5.0)\n",
            "Requirement already satisfied: toml<2,>=0.10.1 in /usr/local/lib/python3.12/dist-packages (from streamlit) (0.10.2)\n",
            "Requirement already satisfied: typing-extensions<5,>=4.4.0 in /usr/local/lib/python3.12/dist-packages (from streamlit) (4.15.0)\n",
            "Requirement already satisfied: watchdog<7,>=2.1.5 in /usr/local/lib/python3.12/dist-packages (from streamlit) (6.0.0)\n",
            "Requirement already satisfied: gitpython!=3.1.19,<4,>=3.0.7 in /usr/local/lib/python3.12/dist-packages (from streamlit) (3.1.45)\n",
            "Collecting pydeck<1,>=0.8.0b4 (from streamlit)\n",
            "  Downloading pydeck-0.9.1-py2.py3-none-any.whl.metadata (4.1 kB)\n",
            "Requirement already satisfied: tornado!=6.5.0,<7,>=6.0.3 in /usr/local/lib/python3.12/dist-packages (from streamlit) (6.4.2)\n",
            "Requirement already satisfied: jinja2 in /usr/local/lib/python3.12/dist-packages (from altair!=5.4.0,!=5.4.1,<6,>=4.0->streamlit) (3.1.6)\n",
            "Requirement already satisfied: jsonschema>=3.0 in /usr/local/lib/python3.12/dist-packages (from altair!=5.4.0,!=5.4.1,<6,>=4.0->streamlit) (4.25.1)\n",
            "Requirement already satisfied: narwhals>=1.14.2 in /usr/local/lib/python3.12/dist-packages (from altair!=5.4.0,!=5.4.1,<6,>=4.0->streamlit) (2.5.0)\n",
            "Requirement already satisfied: gitdb<5,>=4.0.1 in /usr/local/lib/python3.12/dist-packages (from gitpython!=3.1.19,<4,>=3.0.7->streamlit) (4.0.12)\n",
            "Requirement already satisfied: python-dateutil>=2.8.2 in /usr/local/lib/python3.12/dist-packages (from pandas<3,>=1.4.0->streamlit) (2.9.0.post0)\n",
            "Requirement already satisfied: pytz>=2020.1 in /usr/local/lib/python3.12/dist-packages (from pandas<3,>=1.4.0->streamlit) (2025.2)\n",
            "Requirement already satisfied: tzdata>=2022.7 in /usr/local/lib/python3.12/dist-packages (from pandas<3,>=1.4.0->streamlit) (2025.2)\n",
            "Requirement already satisfied: charset_normalizer<4,>=2 in /usr/local/lib/python3.12/dist-packages (from requests<3,>=2.27->streamlit) (3.4.3)\n",
            "Requirement already satisfied: idna<4,>=2.5 in /usr/local/lib/python3.12/dist-packages (from requests<3,>=2.27->streamlit) (3.10)\n",
            "Requirement already satisfied: urllib3<3,>=1.21.1 in /usr/local/lib/python3.12/dist-packages (from requests<3,>=2.27->streamlit) (2.5.0)\n",
            "Requirement already satisfied: certifi>=2017.4.17 in /usr/local/lib/python3.12/dist-packages (from requests<3,>=2.27->streamlit) (2025.8.3)\n",
            "Requirement already satisfied: smmap<6,>=3.0.1 in /usr/local/lib/python3.12/dist-packages (from gitdb<5,>=4.0.1->gitpython!=3.1.19,<4,>=3.0.7->streamlit) (5.0.2)\n",
            "Requirement already satisfied: MarkupSafe>=2.0 in /usr/local/lib/python3.12/dist-packages (from jinja2->altair!=5.4.0,!=5.4.1,<6,>=4.0->streamlit) (3.0.2)\n",
            "Requirement already satisfied: attrs>=22.2.0 in /usr/local/lib/python3.12/dist-packages (from jsonschema>=3.0->altair!=5.4.0,!=5.4.1,<6,>=4.0->streamlit) (25.3.0)\n",
            "Requirement already satisfied: jsonschema-specifications>=2023.03.6 in /usr/local/lib/python3.12/dist-packages (from jsonschema>=3.0->altair!=5.4.0,!=5.4.1,<6,>=4.0->streamlit) (2025.9.1)\n",
            "Requirement already satisfied: referencing>=0.28.4 in /usr/local/lib/python3.12/dist-packages (from jsonschema>=3.0->altair!=5.4.0,!=5.4.1,<6,>=4.0->streamlit) (0.36.2)\n",
            "Requirement already satisfied: rpds-py>=0.7.1 in /usr/local/lib/python3.12/dist-packages (from jsonschema>=3.0->altair!=5.4.0,!=5.4.1,<6,>=4.0->streamlit) (0.27.1)\n",
            "Requirement already satisfied: six>=1.5 in /usr/local/lib/python3.12/dist-packages (from python-dateutil>=2.8.2->pandas<3,>=1.4.0->streamlit) (1.17.0)\n",
            "Downloading streamlit-1.50.0-py3-none-any.whl (10.1 MB)\n",
            "\u001b[2K   \u001b[90m━━━━━━━━━━━━━━━━━━━━━━━━━━━━━━━━━━━━━━━━\u001b[0m \u001b[32m10.1/10.1 MB\u001b[0m \u001b[31m54.2 MB/s\u001b[0m eta \u001b[36m0:00:00\u001b[0m\n",
            "\u001b[?25hDownloading pydeck-0.9.1-py2.py3-none-any.whl (6.9 MB)\n",
            "\u001b[2K   \u001b[90m━━━━━━━━━━━━━━━━━━━━━━━━━━━━━━━━━━━━━━━━\u001b[0m \u001b[32m6.9/6.9 MB\u001b[0m \u001b[31m76.5 MB/s\u001b[0m eta \u001b[36m0:00:00\u001b[0m\n",
            "\u001b[?25hInstalling collected packages: pydeck, streamlit\n",
            "Successfully installed pydeck-0.9.1 streamlit-1.50.0\n"
          ]
        }
      ]
    },
    {
      "cell_type": "code",
      "source": [
        "!npm install localtunnel"
      ],
      "metadata": {
        "colab": {
          "base_uri": "https://localhost:8080/"
        },
        "id": "IVYTlYCYJzrA",
        "outputId": "52778156-8024-4db5-bd74-0eca54ea16a6"
      },
      "execution_count": 2,
      "outputs": [
        {
          "output_type": "stream",
          "name": "stdout",
          "text": [
            "\u001b[1G\u001b[0K⠙\u001b[1G\u001b[0K⠹\u001b[1G\u001b[0K⠸\u001b[1G\u001b[0K⠼\u001b[1G\u001b[0K⠴\u001b[1G\u001b[0K⠦\u001b[1G\u001b[0K⠧\u001b[1G\u001b[0K⠇\u001b[1G\u001b[0K⠏\u001b[1G\u001b[0K⠋\u001b[1G\u001b[0K⠙\u001b[1G\u001b[0K⠹\u001b[1G\u001b[0K⠸\u001b[1G\u001b[0K⠼\u001b[1G\u001b[0K⠴\u001b[1G\u001b[0K⠦\u001b[1G\u001b[0K⠧\u001b[1G\u001b[0K⠇\u001b[1G\u001b[0K⠏\u001b[1G\u001b[0K⠋\u001b[1G\u001b[0K⠙\u001b[1G\u001b[0K⠹\u001b[1G\u001b[0K⠸\u001b[1G\u001b[0K⠼\u001b[1G\u001b[0K⠴\u001b[1G\u001b[0K⠦\u001b[1G\u001b[0K⠧\u001b[1G\u001b[0K⠇\u001b[1G\u001b[0K⠏\u001b[1G\u001b[0K⠋\u001b[1G\u001b[0K⠙\u001b[1G\u001b[0K⠹\u001b[1G\u001b[0K\n",
            "added 22 packages in 4s\n",
            "\u001b[1G\u001b[0K⠹\u001b[1G\u001b[0K\n",
            "\u001b[1G\u001b[0K⠹\u001b[1G\u001b[0K3 packages are looking for funding\n",
            "\u001b[1G\u001b[0K⠹\u001b[1G\u001b[0K  run `npm fund` for details\n",
            "\u001b[1G\u001b[0K⠹\u001b[1G\u001b[0K"
          ]
        }
      ]
    },
    {
      "cell_type": "markdown",
      "source": [
        "## Data Analysis: Bar chat"
      ],
      "metadata": {
        "id": "220bTCE9J9ko"
      }
    },
    {
      "cell_type": "markdown",
      "source": [
        "The dataset contains information about auto insurance across various states in the U.S. It includes details such as state abbreviations, capitals, insurance price levels, population, geographical coordinates (latitude and longitude), and regional divisions. The columns also contain yearly insurance premiums (for 2021, 2022, and 2023) for each state, and it is organized by regions like Northeast, Midwest, and South. This data can be useful for analysis of insurance pricing trends across different states and regions."
      ],
      "metadata": {
        "id": "PIbhupxOJuTK"
      }
    },
    {
      "cell_type": "markdown",
      "source": [
        "A bar chart is an effective way to compare numerical data across categories. In the example with the df dataset, using st.bar_chart(data=df, x='state', y='Y2023'), you can compare the 2023 insurance premiums (Y2023) for each state. The x-axis represents the states, while the y-axis shows the corresponding premium values. This visualization makes it easy to identify patterns, such as which states have the highest or lowest insurance premiums, helping in data-driven decision-making."
      ],
      "metadata": {
        "id": "jFyay1JYLXTs"
      }
    },
    {
      "cell_type": "code",
      "source": [
        "%%writefile bar.py\n",
        "import streamlit as st\n",
        "import pandas as pd\n",
        "df=pd.read_csv('https://raw.githubusercontent.com/lcbjrrr/ProgWData/refs/heads/main/autoinsurance.csv')\n",
        "st.write(df)\n",
        "st.bar_chart(data=df,x='state',y='Y2023')"
      ],
      "metadata": {
        "colab": {
          "base_uri": "https://localhost:8080/"
        },
        "id": "MthgxAGtKlDH",
        "outputId": "80a5c51c-e93d-4ce6-92d0-fd632a6d45ba"
      },
      "execution_count": 3,
      "outputs": [
        {
          "output_type": "stream",
          "name": "stdout",
          "text": [
            "Writing bar.py\n"
          ]
        }
      ]
    },
    {
      "cell_type": "code",
      "source": [
        "!streamlit run /content/bar.py t &>/content/logs.txt &\n"
      ],
      "metadata": {
        "id": "QaJSXy3OKvpC"
      },
      "execution_count": 4,
      "outputs": []
    },
    {
      "cell_type": "code",
      "source": [
        "!curl https://loca.lt/mytunnelpassword\n"
      ],
      "metadata": {
        "colab": {
          "base_uri": "https://localhost:8080/"
        },
        "id": "IU1zK7YyKz0y",
        "outputId": "c359af1b-f6e1-4b8f-9848-7969eaeb217b"
      },
      "execution_count": 5,
      "outputs": [
        {
          "output_type": "stream",
          "name": "stdout",
          "text": [
            "34.30.128.123"
          ]
        }
      ]
    },
    {
      "cell_type": "code",
      "source": [
        "!npx localtunnel --port 8501 &\n"
      ],
      "metadata": {
        "colab": {
          "base_uri": "https://localhost:8080/"
        },
        "id": "hFJLP2pzK4wD",
        "outputId": "c3992d1a-344d-48d2-c1ba-411bdf366df0"
      },
      "execution_count": 6,
      "outputs": [
        {
          "output_type": "stream",
          "name": "stdout",
          "text": [
            "\u001b[1G\u001b[0K⠙\u001b[1G\u001b[0Kyour url is: https://slick-bobcats-move.loca.lt\n"
          ]
        }
      ]
    },
    {
      "cell_type": "markdown",
      "source": [
        "\n",
        "## Aggregation\n",
        "\n"
      ],
      "metadata": {
        "id": "p6wUCvpkJuXR"
      }
    },
    {
      "cell_type": "markdown",
      "source": [
        "We can group our data by the 'Region' column to calculate the average insurance premium for 2023 (Y2023) in each region. The resulting average values are displayed in a table, and a bar chart visualizes the comparison of insurance premiums across different regions. This approach helps to summarize regional insurance trends efficiently, highlighting differences in premiums between regions.\n"
      ],
      "metadata": {
        "id": "w_whma3ALfsX"
      }
    },
    {
      "cell_type": "code",
      "source": [
        "%%writefile agg.py\n",
        "import streamlit as st\n",
        "import pandas as pd\n",
        "df=pd.read_csv('https://raw.githubusercontent.com/lcbjrrr/ProgWData/refs/heads/main/autoinsurance.csv')\n",
        "agg = df.groupby('Region')['Y2023'].mean()\n",
        "agg = agg.reset_index()\n",
        "st.write(agg)\n",
        "st.bar_chart(data=df,x='Region',y='Y2023')"
      ],
      "metadata": {
        "colab": {
          "base_uri": "https://localhost:8080/"
        },
        "id": "pFQohbz8IrQO",
        "outputId": "b1232920-3bdc-427f-fe3c-12b043cefd7f"
      },
      "execution_count": 7,
      "outputs": [
        {
          "output_type": "stream",
          "name": "stdout",
          "text": [
            "Writing agg.py\n"
          ]
        }
      ]
    },
    {
      "cell_type": "markdown",
      "source": [
        "## Pie chart"
      ],
      "metadata": {
        "id": "IeMcOisMLtlx"
      }
    },
    {
      "cell_type": "markdown",
      "source": [
        "A pie chart is ideal for showing proportions within a dataset. In this case, using agg = df.groupby('Region')['state'].count(), you can count the number of states in each region and visualize these counts as a pie chart. Each slice of the pie chart represents the proportion of states in each region, providing an easy-to-understand comparison of regional distribution. This helps to see how states are distributed across different regions in the dataset.\n"
      ],
      "metadata": {
        "id": "IEO5CT-ZLu4z"
      }
    },
    {
      "cell_type": "code",
      "source": [
        "%%writefile pie.py\n",
        "import streamlit as st\n",
        "import pandas as pd\n",
        "df=pd.read_csv('https://raw.githubusercontent.com/lcbjrrr/ProgWData/refs/heads/main/autoinsurance.csv')\n",
        "agg = df.groupby('Region')['state'].count()\n",
        "#agg = agg.reset_index()\n",
        "st.write(agg)\n",
        "st.pyplot(agg.plot(kind='pie').figure)"
      ],
      "metadata": {
        "id": "7PvxoOKoLvKB"
      },
      "execution_count": null,
      "outputs": []
    },
    {
      "cell_type": "markdown",
      "source": [
        "## Line chart"
      ],
      "metadata": {
        "id": "usHLcy-jL-03"
      }
    },
    {
      "cell_type": "markdown",
      "source": [
        "A line chart is useful for displaying trends over time. In this example, using st.line_chart(data=life, x='year', y=['own', 'dont_own']), you can plot the trend of two variables — 'own' and 'dont_own' — over the years. This allows for a clear visualization of how each variable changes over time, helping to identify patterns, fluctuations, or trends, such as whether more people started owning insurance over the years compared to those who don't own it.\n"
      ],
      "metadata": {
        "id": "k8zQ7ipaMA9d"
      }
    },
    {
      "cell_type": "code",
      "source": [
        "%%writefile line.py\n",
        "import streamlit as st\n",
        "import pandas as pd\n",
        "life = pd.read_csv(\"https://raw.githubusercontent.com/lcbjrrr/ProgWData/refs/heads/main/life_insurance.csv\")\n",
        "st.write(life)\n",
        "st.line_chart(data=life,x='year',y=['own',\t'dont_own'] )"
      ],
      "metadata": {
        "colab": {
          "base_uri": "https://localhost:8080/"
        },
        "id": "SKwhU8cBMBcx",
        "outputId": "dda77962-a04d-450d-bb87-b94ea299a9fd"
      },
      "execution_count": 10,
      "outputs": [
        {
          "output_type": "stream",
          "name": "stdout",
          "text": [
            "Writing line.py\n"
          ]
        }
      ]
    },
    {
      "cell_type": "markdown",
      "source": [
        "## Scatterplot"
      ],
      "metadata": {
        "id": "jA2x6CtcMeuJ"
      }
    },
    {
      "cell_type": "markdown",
      "source": [
        "A scatterplot is effective for visualizing the correlation or association between two variables. In this example, using st.scatter_chart(data=auto, x='age', y='premium'), you can explore how the age of individuals correlates with their premium values. Each point on the scatterplot represents a data pair, allowing you to visually assess if there's a relationship, such as whether older individuals tend to have higher premiums, or if there is no noticeable trend.\n",
        "\n"
      ],
      "metadata": {
        "id": "14elGAVDMe89"
      }
    },
    {
      "cell_type": "code",
      "source": [
        "%%writefile scatter.py\n",
        "import streamlit as st\n",
        "import pandas as pd\n",
        "auto = pd.read_csv('https://raw.githubusercontent.com/lcbjrrr/ProgWdata/refs/heads/main/autos.csv')\n",
        "st.write(auto)\n",
        "st.scatter_chart(data=auto,x='age',y='premium' )"
      ],
      "metadata": {
        "colab": {
          "base_uri": "https://localhost:8080/"
        },
        "id": "kFsJNIqLMfI2",
        "outputId": "1f82724c-9ae8-4800-9808-0fb9d94c84cb"
      },
      "execution_count": 11,
      "outputs": [
        {
          "output_type": "stream",
          "name": "stdout",
          "text": [
            "Writing scatter.py\n"
          ]
        }
      ]
    },
    {
      "cell_type": "markdown",
      "source": [
        "## Histogram"
      ],
      "metadata": {
        "id": "L3aLiMebMlph"
      }
    },
    {
      "cell_type": "markdown",
      "source": [
        "A histogram is a type of bar chart used to represent the distribution of numerical data by grouping data points into bins. In the example auto['Y2023'].plot(kind='hist', bins=[0,500,800,1000,5000]), it shows how the insurance premiums (Y2023) are distributed across different ranges (or bins) such as 0-500, 500-800, etc. This visualization helps to understand the frequency of premiums in each range, allowing for quick insights into data distribution.\n"
      ],
      "metadata": {
        "id": "eXgre6-2Mlsu"
      }
    },
    {
      "cell_type": "code",
      "source": [
        "%%writefile hist.py\n",
        "import streamlit as st\n",
        "import pandas as pd\n",
        "df=pd.read_csv('https://raw.githubusercontent.com/lcbjrrr/ProgWData/refs/heads/main/autoinsurance.csv')\n",
        "st.write(auto)\n",
        "st.pyplot(auto['Y2023'].plot(kind='hist',bins=[0,500,800,1000,5000]).figure)"
      ],
      "metadata": {
        "colab": {
          "base_uri": "https://localhost:8080/"
        },
        "id": "JbslI6UqMmZu",
        "outputId": "375d3914-7011-431f-99a5-c49c01210ec5"
      },
      "execution_count": 12,
      "outputs": [
        {
          "output_type": "stream",
          "name": "stdout",
          "text": [
            "Writing hist.py\n"
          ]
        }
      ]
    },
    {
      "cell_type": "markdown",
      "source": [
        "## Boxplot"
      ],
      "metadata": {
        "id": "meoYGqlIMqQy"
      }
    },
    {
      "cell_type": "markdown",
      "source": [
        "A boxplot is a graphical representation of the distribution of numerical data through quartiles. It shows the minimum, first quartile (Q1), median, third quartile (Q3), and maximum, highlighting the spread and skewness of the data. Outliers are typically marked as individual points outside the \"whiskers.\" In the example auto['Y2023'].plot(kind='box'), the boxplot visualizes the distribution of the Y2023 insurance premiums, helping to quickly assess the data's range, central tendency, and any potential outliers.\n"
      ],
      "metadata": {
        "id": "9kAcz4_dMqTU"
      }
    },
    {
      "cell_type": "code",
      "source": [
        "%%writefile box.py\n",
        "import streamlit as st\n",
        "import pandas as pd\n",
        "df=pd.read_csv('https://raw.githubusercontent.com/lcbjrrr/ProgWData/refs/heads/main/autoinsurance.csv')\n",
        "st.write(auto['Y2023'].describe())\n",
        "st.pyplot(auto['Y2023'].plot(kind='box').figure)"
      ],
      "metadata": {
        "colab": {
          "base_uri": "https://localhost:8080/"
        },
        "id": "9h9i0HGwMqZE",
        "outputId": "1cdeac19-f48c-403e-fb7f-e49d374bb35f"
      },
      "execution_count": 13,
      "outputs": [
        {
          "output_type": "stream",
          "name": "stdout",
          "text": [
            "Writing box.py\n"
          ]
        }
      ]
    },
    {
      "cell_type": "markdown",
      "source": [
        "## Maps"
      ],
      "metadata": {
        "id": "tdgqfL8oM190"
      }
    },
    {
      "cell_type": "markdown",
      "source": [
        "To work with map data in Streamlit, the st.map() function can be used to plot geographic data points on a map. The df dataframe contains latitude (lat) and longitude (lon) columns for geographic coordinates. The size parameter adjusts the size of the markers on the map. By calling st.map(df, latitude=\"lat\", longitude=\"lon\", size=\"2300\"), the geographic data will be visualized on an interactive map, making it easier to explore location-based trends.\n"
      ],
      "metadata": {
        "id": "sD4juqGHM2AI"
      }
    },
    {
      "cell_type": "code",
      "source": [
        "%%writefile map.py\n",
        "import streamlit as st\n",
        "import pandas as pd\n",
        "df=pd.read_csv('https://raw.githubusercontent.com/lcbjrrr/ProgWData/refs/heads/main/autoinsurance.csv')\n",
        "#st.write(df)\n",
        "st.map(auto, latitude=\"lat\", longitude=\"lon\", size=\"2300\")"
      ],
      "metadata": {
        "colab": {
          "base_uri": "https://localhost:8080/"
        },
        "id": "UZ5n3HlxM2Fj",
        "outputId": "52cd2b7f-92cc-44d6-be40-ac968123edab"
      },
      "execution_count": 14,
      "outputs": [
        {
          "output_type": "stream",
          "name": "stdout",
          "text": [
            "Writing map.py\n"
          ]
        }
      ]
    }
  ]
}